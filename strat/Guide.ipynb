{
 "cells": [
  {
   "cell_type": "markdown",
   "metadata": {
    "editable": false
   },
   "source": [
    "# Setting Up Our Interface Class"
   ]
  },
  {
   "cell_type": "markdown",
   "metadata": {
    "editable": false,
    "video": {
     "duration": 214,
     "id": "103368",
     "subtitles": [],
     "topher_id": "f852c7a4-0fb4-11ea-b010-0242ac110027",
     "transcodings": {
      "uri_480p_1000kbps_mp4": "https://video.udacity-data.com/topher/2019/November/5ddc2354_nd303-c2-l3-12-ingestor-interface/nd303-c2-l3-12-ingestor-interface_480p_1000kbps.mp4",
      "uri_480p_mp4": "https://video.udacity-data.com/topher/2019/November/5ddc2354_nd303-c2-l3-12-ingestor-interface/nd303-c2-l3-12-ingestor-interface_480p.mp4",
      "uri_720p_mp4": "https://video.udacity-data.com/topher/2019/November/5ddc2354_nd303-c2-l3-12-ingestor-interface/nd303-c2-l3-12-ingestor-interface_720p.mp4",
      "uri_hls": "https://video.udacity-data.com/topher/2019/November/5ddc2354_nd303-c2-l3-12-ingestor-interface/hls/playlist.m3u8"
     },
     "youtube_id": "iwp7F0tBIP8"
    }
   },
   "source": []
  },
  {
   "cell_type": "markdown",
   "metadata": {
    "editable": false
   },
   "source": [
    "### Try it!\n",
    "Let's take a minute to lay the groundwork for our strategy object importer:\n",
    "1. Review the file structure and organization of the skeleton code we've provided.\n",
    "2. Create a new `ImporterInterface` abstract class:\n",
    " - This class should implement a `can_ingest` class method which decides if a file is compatible with the importer.\n",
    " - A `parse` abstract class method signature which we will realize and fully complete in the children classes that implement the `ImporterInterface`."
   ]
  },
  {
   "cell_type": "markdown",
   "metadata": {
    "editable": false,
    "toggleable": true,
    "ulab": {
     "buttons": {
      "ulab-button-toggle-340fc6fb": {
       "style": "primary"
      }
     }
    }
   },
   "source": [
    "```python\n",
    "from abc import ABC, abstractmethod\n",
    "\n",
    "from typing import List\n",
    "from .Cat import Cat\n",
    "\n",
    "class ImportInterface(ABC):\n",
    "\n",
    "    allowed_extensions = []\n",
    "\n",
    "    @classmethod\n",
    "    def can_ingest(cls, path):\n",
    "        ext = path.split('.')[-1]\n",
    "        return ext in cls.allowed_extensions\n",
    "\n",
    "    @classmethod\n",
    "    @abstractmethod\n",
    "    def parse(cls, path: str) -> List[Cat]:\n",
    "        pass\n",
    "```"
   ]
  },
  {
   "cell_type": "markdown",
   "metadata": {
    "editable": false
   },
   "source": [
    "<!--\n",
    "%%ulab_page_divider\n",
    "--><hr/>"
   ]
  },
  {
   "cell_type": "markdown",
   "metadata": {
    "editable": false
   },
   "source": [
    "## Importing Word Documents"
   ]
  },
  {
   "cell_type": "markdown",
   "metadata": {
    "editable": false,
    "video": {
     "duration": 355,
     "id": "103369",
     "subtitles": [],
     "topher_id": "017e5efb-0fb6-11ea-8f5f-0242ac110006",
     "transcodings": {
      "uri_480p_1000kbps_mp4": "https://video.udacity-data.com/topher/2019/November/5ddc2511_nd303-c2-l3-13-docx-import/nd303-c2-l3-13-docx-import_480p_1000kbps.mp4",
      "uri_480p_mp4": "https://video.udacity-data.com/topher/2019/November/5ddc2511_nd303-c2-l3-13-docx-import/nd303-c2-l3-13-docx-import_480p.mp4",
      "uri_720p_mp4": "https://video.udacity-data.com/topher/2019/November/5ddc2511_nd303-c2-l3-13-docx-import/nd303-c2-l3-13-docx-import_720p.mp4",
      "uri_hls": "https://video.udacity-data.com/topher/2019/November/5ddc2511_nd303-c2-l3-13-docx-import/hls/playlist.m3u8"
     },
     "youtube_id": "puTLzA9NFhU"
    }
   },
   "source": []
  },
  {
   "cell_type": "markdown",
   "metadata": {
    "editable": false
   },
   "source": [
    "### Try it!\n",
    "\n",
    "Before implementing our code, we need to install the `python-docx` library to work with word documents in Python. This library requires a new version of a Python helper module called `setuptools`. To install the updated helper and the docx library, run:\n",
    "```bash\n",
    "pip install -U setuptools\n",
    "pip install python-docx \n",
    "```\n",
    "\n",
    "Then, we're ready to implement our first strategy object:\n",
    "1. Create a new `DocxImporter` class that inherits `ImporterInterface`.\n",
    "2. Implement the `parse` method that uses the `python-docx` library to read import data from a `docx` file.\n",
    "3. Import and use your importer in the `run.py` file."
   ]
  },
  {
   "cell_type": "markdown",
   "metadata": {
    "editable": false,
    "toggleable": true,
    "ulab": {
     "buttons": {
      "ulab-button-toggle-7e09d817": {
       "bashCommand": "",
       "filesToOpen": [],
       "isPreviewButton": false,
       "runInBackground": false,
       "style": "primary",
       "text": "",
       "toggleOffText": "HIDE SOLUTION",
       "toggleOnText": "SHOW DocxImporter.py SOLUTION"
      }
     }
    }
   },
   "source": [
    "```python\n",
    "from typing import List\n",
    "import docx\n",
    "\n",
    "from .ImportInterface import ImportInterface\n",
    "from .Cat import Cat\n",
    "\n",
    "class DocxImporter(ImportInterface):\n",
    "    allowed_extensions = ['docx']\n",
    "    \n",
    "    @classmethod\n",
    "    def parse(cls, path: str) -> List[Cat]:\n",
    "        if not cls.can_ingest(path):\n",
    "            raise Exception('cannot ingest exception')\n",
    "        \n",
    "        cats = []\n",
    "        doc = docx.Document(path)\n",
    "        \n",
    "        for para in doc.paragraphs:\n",
    "            if para.text != \"\":\n",
    "                parse = para.text.split(',')\n",
    "                new_cat = Cat(parse[0], int(parse[1]), bool(parse[2]))\n",
    "                cats.append(new_cat)\n",
    "                \n",
    "        return cats\n",
    "```"
   ]
  },
  {
   "cell_type": "markdown",
   "metadata": {
    "editable": false,
    "toggleable": true,
    "ulab": {
     "buttons": {
      "ulab-button-toggle-f715a9f1": {
       "bashCommand": "",
       "filesToOpen": [],
       "isPreviewButton": false,
       "runInBackground": false,
       "style": "primary",
       "text": "",
       "toggleOffText": "HIDE SOLUTION",
       "toggleOnText": "SHOW run.py SOLUTION"
      }
     }
    }
   },
   "source": [
    "```python\n",
    "from ImportEngine import DocxImporter\n",
    "\n",
    "print(DocxImporter.parse('./data/cats.docx'))\n",
    "```"
   ]
  },
  {
   "cell_type": "markdown",
   "metadata": {
    "editable": false
   },
   "source": [
    "<!--\n",
    "%%ulab_page_divider\n",
    "--><hr/>"
   ]
  },
  {
   "cell_type": "markdown",
   "metadata": {
    "editable": false
   },
   "source": [
    "## Importing CSV Files"
   ]
  },
  {
   "cell_type": "markdown",
   "metadata": {
    "editable": false,
    "video": {
     "duration": 236,
     "id": "103370",
     "subtitles": [],
     "topher_id": "c7910397-0fb6-11ea-8f5f-0242ac110006",
     "transcodings": {
      "uri_480p_1000kbps_mp4": "https://video.udacity-data.com/topher/2019/November/5ddc265d_nd303-c2-l3-14-csv/nd303-c2-l3-14-csv_480p_1000kbps.mp4",
      "uri_480p_mp4": "https://video.udacity-data.com/topher/2019/November/5ddc265d_nd303-c2-l3-14-csv/nd303-c2-l3-14-csv_480p.mp4",
      "uri_720p_mp4": "https://video.udacity-data.com/topher/2019/November/5ddc265d_nd303-c2-l3-14-csv/nd303-c2-l3-14-csv_720p.mp4",
      "uri_hls": "https://video.udacity-data.com/topher/2019/November/5ddc265d_nd303-c2-l3-14-csv/hls/playlist.m3u8"
     },
     "youtube_id": "HRs-iQR16jE"
    }
   },
   "source": []
  },
  {
   "cell_type": "markdown",
   "metadata": {
    "editable": false
   },
   "source": [
    "### Try it!\n",
    "\n",
    "Before implementing our code, we need to install the `pandas` library to work with csv files in python by running:\n",
    "```bash\n",
    "pip install pandas\n",
    "\n",
    "```\n",
    "\n",
    "Then, we're ready to implement our first strategy object:\n",
    "1. Create a new `CSVImporter` class that inherits `ImporterInterface`.\n",
    "2. Implement the `parse` method that uses the `pandas` library to read import data from a `csv` file.\n",
    "3. Import and use your importer in the `run.py` file."
   ]
  },
  {
   "cell_type": "markdown",
   "metadata": {
    "editable": false,
    "toggleable": true,
    "ulab": {
     "buttons": {
      "ulab-button-toggle-7c7f1b82": {
       "bashCommand": "",
       "filesToOpen": [],
       "isPreviewButton": false,
       "runInBackground": false,
       "style": "primary",
       "text": "",
       "toggleOffText": "HIDE SOLUTION",
       "toggleOnText": "SHOW CSVImporter.py SOLUTION"
      }
     }
    }
   },
   "source": [
    "```python\n",
    "from typing import List\n",
    "import pandas\n",
    "\n",
    "from .ImportInterface import ImportInterface\n",
    "from .Cat import Cat\n",
    "\n",
    "class CSVImporter(ImportInterface):\n",
    "    allowed_extensions = ['csv']\n",
    "    \n",
    "    @classmethod\n",
    "    def parse(cls, path: str) -> List[Cat]:\n",
    "        if not cls.can_ingest(path):\n",
    "            raise Exception('cannot ingest exception')\n",
    "        \n",
    "        cats = []\n",
    "        df = pandas.read_csv(path, header=0)\n",
    "        \n",
    "        for index, row in df.iterrows():\n",
    "            new_cat = Cat(row['Name'], row['Age'], row['isIndoor'])\n",
    "            cats.append(new_cat)\n",
    "            \n",
    "        return cats\n",
    "```"
   ]
  },
  {
   "cell_type": "markdown",
   "metadata": {
    "editable": false
   },
   "source": [
    "<!--\n",
    "%%ulab_page_divider\n",
    "--><hr/>"
   ]
  },
  {
   "cell_type": "markdown",
   "metadata": {
    "editable": false
   },
   "source": [
    "## Encapsulating Our Strategy Objects"
   ]
  },
  {
   "cell_type": "markdown",
   "metadata": {
    "editable": false,
    "video": {
     "duration": 145,
     "id": "103371",
     "subtitles": [],
     "topher_id": "661b905b-0fb7-11ea-b010-0242ac110027",
     "transcodings": {
      "uri_480p_1000kbps_mp4": "https://video.udacity-data.com/topher/2019/November/5ddc2767_nd303-c2-l3-15-ingestor-encapsulator/nd303-c2-l3-15-ingestor-encapsulator_480p_1000kbps.mp4",
      "uri_480p_mp4": "https://video.udacity-data.com/topher/2019/November/5ddc2767_nd303-c2-l3-15-ingestor-encapsulator/nd303-c2-l3-15-ingestor-encapsulator_480p.mp4",
      "uri_720p_mp4": "https://video.udacity-data.com/topher/2019/November/5ddc2767_nd303-c2-l3-15-ingestor-encapsulator/nd303-c2-l3-15-ingestor-encapsulator_720p.mp4",
      "uri_hls": "https://video.udacity-data.com/topher/2019/November/5ddc2767_nd303-c2-l3-15-ingestor-encapsulator/hls/playlist.m3u8"
     },
     "youtube_id": "sv85rcjODQs"
    }
   },
   "source": []
  },
  {
   "cell_type": "markdown",
   "metadata": {
    "editable": false
   },
   "source": [
    "### Try it!\n",
    "Encapsulation can make our software easy to work with. Refactor your code to:\n",
    "1. Include a new `Importer` class that will encapsulate the `CSVImporter` and `DocxImporter` classes. It should realize the `ImporterInterface`.\n",
    "2. Write a `parse` method that makes a decision for which importer to use based on filetype.\n",
    "3. Refactor `run.py` to consume the `Importer` class!\n"
   ]
  },
  {
   "cell_type": "markdown",
   "metadata": {
    "editable": false,
    "toggleable": true,
    "ulab": {
     "buttons": {
      "ulab-button-toggle-dfaca807": {
       "bashCommand": "",
       "filesToOpen": [],
       "isPreviewButton": false,
       "runInBackground": false,
       "style": "primary",
       "text": "",
       "toggleOffText": "HIDE SOLUTION",
       "toggleOnText": "SHOW Importer.py SOLUTION"
      }
     }
    }
   },
   "source": [
    "```python\n",
    "from typing import List\n",
    "\n",
    "from .ImportInterface import ImportInterface\n",
    "from .Cat import Cat\n",
    "from .DocxImporter import DocxImporter\n",
    "from .CSVImporter import CSVImporter\n",
    "\n",
    "\n",
    "class Importer(ImportInterface):\n",
    "    importers = [DocxImporter, CSVImporter]\n",
    "    \n",
    "    @classmethod\n",
    "    def parse(cls, path: str) -> List[Cat]:\n",
    "        for importer in cls.importers:\n",
    "            if importer.can_ingest(path):\n",
    "                return importer.parse(path)\n",
    "```"
   ]
  },
  {
   "cell_type": "markdown",
   "metadata": {
    "editable": false
   },
   "source": [
    "<!--\n",
    "%%ulab_page_divider\n",
    "--><hr/>"
   ]
  },
  {
   "cell_type": "markdown",
   "metadata": {
    "editable": false
   },
   "source": [
    "# Using Subprocess to Interface with CLI Tools"
   ]
  },
  {
   "cell_type": "markdown",
   "metadata": {
    "editable": false,
    "video": {
     "duration": 381,
     "id": "103377",
     "subtitles": [],
     "topher_id": "1304dbde-0fc5-11ea-b010-0242ac110027",
     "transcodings": {
      "uri_480p_1000kbps_mp4": "https://video.udacity-data.com/topher/2019/November/5ddc3e59_nd303-c2-l4-06-surprise/nd303-c2-l4-06-surprise_480p_1000kbps.mp4",
      "uri_480p_mp4": "https://video.udacity-data.com/topher/2019/November/5ddc3e59_nd303-c2-l4-06-surprise/nd303-c2-l4-06-surprise_480p.mp4",
      "uri_720p_mp4": "https://video.udacity-data.com/topher/2019/November/5ddc3e59_nd303-c2-l4-06-surprise/nd303-c2-l4-06-surprise_720p.mp4",
      "uri_hls": "https://video.udacity-data.com/topher/2019/November/5ddc3e59_nd303-c2-l4-06-surprise/hls/playlist.m3u8"
     },
     "youtube_id": "fpRr0xCdgeY"
    }
   },
   "source": []
  },
  {
   "cell_type": "markdown",
   "metadata": {
    "editable": false
   },
   "source": [
    "# Try it!\n",
    "\n",
    "Before starting, make sure you have the xpdf tool installed by running:\n",
    "```bash\n",
    "sudo apt-get install -y xpdf\n",
    "```\n",
    "\n",
    "Next, try using the commandline tool to convert the pdf into a text file. In the terminal, run:\n",
    "```bash\n",
    "pdftotext data/cats.pdf tmp/a.txt\n",
    "cat tmp/a.txt\n",
    "```\n",
    "\n",
    "The first command will convert from pdf to a text file. The second line (which is confusingly overloaded as `cat`) will concatenate the argument files and print on the standard output. In this case, we provide only the `a.txt` file so this file's content will be printed to the terminal window.\n",
    "\n",
    "Finally, create your new `PDFImporter` class that performs the following steps:\n",
    "1. Creates a random filename for the output.\n",
    "2. Uses `supprocess` to call the `pdftotext` tool on the input path, saving to the random file.\n",
    "3. Uses the Python language reference to open the text file and read it [line-by-line](https://stackabuse.com/read-a-file-line-by-line-in-python/).\n",
    "4. For each line, parse a new `Cat` object.\n",
    "5. Remove the temporary text file.\n",
    "6. Return the list of cats."
   ]
  },
  {
   "cell_type": "markdown",
   "metadata": {
    "editable": false,
    "toggleable": true,
    "ulab": {
     "buttons": {
      "ulab-button-toggle-ef417833": {
       "style": "primary"
      }
     }
    }
   },
   "source": [
    "```python\n",
    "from typing import List\n",
    "import subprocess\n",
    "import os\n",
    "import random\n",
    "\n",
    "from .ImportInterface import ImportInterface\n",
    "from .Cat import Cat\n",
    "\n",
    "class PDFImporter(ImportInterface):\n",
    "    allowed_extensions = ['pdf']\n",
    "\n",
    "    @classmethod\n",
    "    def parse(cls, path: str) -> List[Cat]:\n",
    "        if not cls.can_ingest(path):\n",
    "            raise Exception('Cannot Ingest Exception')\n",
    "\n",
    "        tmp = f'./tmp/{random.randint(0,1000000)}.txt'\n",
    "        call = subprocess.call(['pdftotext', path, tmp])\n",
    "        \n",
    "        file_ref = open(tmp, \"r\")\n",
    "        cats = []\n",
    "        for line in file_ref.readlines():\n",
    "            line = line.strip('\\n\\r').strip()\n",
    "            if len(line) > 0:\n",
    "                parsed = line.split(',')\n",
    "                new_cat = Cat(parsed[0], \n",
    "                              int(parsed[1]), \n",
    "                              bool(parsed[2]))\n",
    "                cats.append(new_cat)\n",
    "\n",
    "        file_ref.close()\n",
    "        os.remove(tmp)\n",
    "        return cats\n",
    "```"
   ]
  },
  {
   "cell_type": "markdown",
   "metadata": {
    "editable": false
   },
   "source": []
  }
 ],
 "metadata": {
  "kernelspec": {
   "display_name": "Python 3",
   "language": "python",
   "name": "python3"
  },
  "language_info": {
   "codemirror_mode": {
    "name": "ipython",
    "version": 3
   },
   "file_extension": ".py",
   "mimetype": "text/x-python",
   "name": "python",
   "nbconvert_exporter": "python",
   "pygments_lexer": "ipython3",
   "version": "3.6.3"
  },
  "ulab_nb_type": "guided"
 },
 "nbformat": 4,
 "nbformat_minor": 4
}
